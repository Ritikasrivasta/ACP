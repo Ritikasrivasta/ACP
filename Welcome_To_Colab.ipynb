{
  "cells": [
    {
      "cell_type": "markdown",
      "metadata": {
        "id": "view-in-github",
        "colab_type": "text"
      },
      "source": [
        "<a href=\"https://colab.research.google.com/github/Ritikasrivasta/ACP/blob/main/Welcome_To_Colab.ipynb\" target=\"_parent\"><img src=\"https://colab.research.google.com/assets/colab-badge.svg\" alt=\"Open In Colab\"/></a>"
      ]
    },
    {
      "cell_type": "code",
      "source": [
        "#Create an empty list\n",
        "empty_list = []\n",
        "print()\n",
        "\n",
        "# A list of numbers\n",
        "numbers = [1, 2, 3, 4, 5]\n",
        "print(numbers)\n",
        "\n",
        "# Use * operator\n",
        "triples = [6, 8, 5] * 3\n",
        "print(triples)\n",
        "\n",
        "#reverse the given list\n",
        "aList = [100, 200, 300, 400, 500]\n",
        "aList = aList[::-1]\n",
        "print(aList,\"\\n\")\n",
        "\n"
      ],
      "metadata": {
        "id": "hJOrP6OzeHIc",
        "outputId": "bbc0161f-2fc7-46e1-f408-384e58f3b531",
        "colab": {
          "base_uri": "https://localhost:8080/"
        }
      },
      "execution_count": null,
      "outputs": [
        {
          "output_type": "stream",
          "name": "stdout",
          "text": [
            "\n",
            "[1, 2, 3, 4, 5]\n",
            "[6, 8, 5, 6, 8, 5, 6, 8, 5]\n",
            "[500, 400, 300, 200, 100] \n",
            "\n"
          ]
        }
      ]
    },
    {
      "cell_type": "code",
      "source": [
        "\n",
        "def match_words(words):\n",
        "\tctr = 0\n",
        "\tlst = []\n",
        "\tfor word in words:\n",
        "\t\tif len(word) > 1 and word[0] == word[-1]:\n",
        "\t\t\tctr += 1\n",
        "\t\t\tlst.append(word)\n",
        "\n",
        "\tprint(\"List of words with first and last character same\\n\", lst)\n",
        "\treturn ctr\n",
        "\n",
        "count = match_words(['abc', 'cfc','xyz', 'aba', '1221'])\n",
        "print(\"Number of words having first and last character same:\", count)\n"
      ],
      "metadata": {
        "id": "bb75p9ksegKd",
        "outputId": "dcd2f62e-9659-4214-9e63-66d53338b275",
        "colab": {
          "base_uri": "https://localhost:8080/"
        }
      },
      "execution_count": null,
      "outputs": [
        {
          "output_type": "stream",
          "name": "stdout",
          "text": [
            "List of words with first and last character same\n",
            " ['cfc', 'aba', '1221']\n",
            "Number of words having first and last character same: 3\n"
          ]
        }
      ]
    },
    {
      "cell_type": "code",
      "source": [
        "L = [4, 5, 1, 2, 9, 7, 10, 8]\n",
        "print(\"Original List :\", L)\n",
        "\n",
        "# variable to store the sum of\n",
        "# the list\n",
        "count = 0\n",
        "\n",
        "# Finding the sum\n",
        "for i in L:\n",
        "    count += i\n",
        "\n",
        "# divide the total elements by\n",
        "# number of elements\n",
        "avg = count/len(L)\n",
        "\n",
        "print(\"sum = \", count)\n",
        "print(\"average = \", avg)\n",
        "\n",
        "# Sorting the elements of the list\n",
        "L.sort()\n",
        "\n",
        "# printing the first element\n",
        "print(\"Smallest element is:\", L[0])\n",
        "\n",
        "# printing the last element\n",
        "print(\"Largest element is:\", L[-1])"
      ],
      "metadata": {
        "id": "5GnHp0FnesTg",
        "outputId": "bb383499-347a-42b7-98f6-4b032c9172eb",
        "colab": {
          "base_uri": "https://localhost:8080/"
        }
      },
      "execution_count": null,
      "outputs": [
        {
          "output_type": "stream",
          "name": "stdout",
          "text": [
            "Original List : [4, 5, 1, 2, 9, 7, 10, 8]\n",
            "sum =  46\n",
            "average =  5.75\n",
            "Smallest element is: 1\n",
            "Largest element is: 10\n"
          ]
        }
      ]
    },
    {
      "cell_type": "code",
      "source": [
        "L = [4, 5, 1, 2, 9, 7, 10, 8]\n",
        "print(\"Original List :\", L)\n",
        "\n",
        "# variable to store the sum of\n",
        "# the list\n",
        "count = 0\n",
        "\n",
        "# Finding the sum\n",
        "for i in L:\n",
        "    count += i\n",
        "\n",
        "# divide the total elements by\n",
        "# number of elements\n",
        "avg = count/len(L)\n",
        "\n",
        "print(\"sum = \", count)\n",
        "print(\"average = \", avg)\n",
        "\n",
        "# Sorting the elements of the list\n",
        "L.sort()\n",
        "\n",
        "# printing the first element\n",
        "print(\"Smallest element is:\", L[0])\n",
        "\n",
        "# printing the last element\n",
        "print(\"Largest element is:\", L[-1])"
      ],
      "metadata": {
        "id": "sKH2axvyeubM",
        "outputId": "06bd83e2-2cba-48c9-b921-05fa73139bca",
        "colab": {
          "base_uri": "https://localhost:8080/"
        }
      },
      "execution_count": null,
      "outputs": [
        {
          "output_type": "stream",
          "name": "stdout",
          "text": [
            "Original List : [4, 5, 1, 2, 9, 7, 10, 8]\n",
            "sum =  46\n",
            "average =  5.75\n",
            "Smallest element is: 1\n",
            "Largest element is: 10\n"
          ]
        }
      ]
    }
  ],
  "metadata": {
    "colab": {
      "name": "Welcome To Colab",
      "provenance": [],
      "include_colab_link": true
    },
    "kernelspec": {
      "display_name": "Python 3",
      "name": "python3"
    }
  },
  "nbformat": 4,
  "nbformat_minor": 0
}